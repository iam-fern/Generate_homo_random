{
  "nbformat": 4,
  "nbformat_minor": 0,
  "metadata": {
    "colab": {
      "name": "data_var_random.ipynb",
      "provenance": [],
      "authorship_tag": "ABX9TyOt/Vi6dKOUT12VSnhBEuVm",
      "include_colab_link": true
    },
    "kernelspec": {
      "name": "python3",
      "display_name": "Python 3"
    },
    "language_info": {
      "name": "python"
    }
  },
  "cells": [
    {
      "cell_type": "markdown",
      "metadata": {
        "id": "view-in-github",
        "colab_type": "text"
      },
      "source": [
        "<a href=\"https://colab.research.google.com/github/iam-fern/Generate_homo_random/blob/main/data_var_random.ipynb\" target=\"_parent\"><img src=\"https://colab.research.google.com/assets/colab-badge.svg\" alt=\"Open In Colab\"/></a>"
      ]
    },
    {
      "cell_type": "code",
      "metadata": {
        "id": "gmT3sYdRem_o"
      },
      "source": [
        "import pandas as pd\n",
        "import numpy as np\n",
        "import scipy as sp\n",
        "import matplotlib.pyplot as plt\n",
        "from scipy.stats import norm\n",
        "from numpy.random import normal\n",
        "import statistics\n",
        "import statistics as stats\n",
        "import scipy.stats as ss\n",
        "from scipy import stats\n",
        "import scipy.stats as stats\n",
        "import time\n",
        "import statsmodels.api as sm\n",
        "%matplotlib inline\n",
        "from google.colab import files"
      ],
      "execution_count": 8,
      "outputs": []
    },
    {
      "cell_type": "code",
      "metadata": {
        "colab": {
          "base_uri": "https://localhost:8080/",
          "height": 417
        },
        "id": "-_RZ0rQ6em0f",
        "outputId": "f1b00080-7409-46bc-cd4c-91abf0ca4da9"
      },
      "source": [
        "sp.random.seed(123345)\n",
        "data = pd.DataFrame({\"X1\" : sp.random.uniform(20, 100, 500000),\n",
        "                     \"X2\" : sp.random.uniform(20, 100, 500000),\n",
        "                     \"X3\" : sp.random.uniform(20, 100, 500000)})\n",
        "data"
      ],
      "execution_count": 9,
      "outputs": [
        {
          "output_type": "execute_result",
          "data": {
            "text/html": [
              "<div>\n",
              "<style scoped>\n",
              "    .dataframe tbody tr th:only-of-type {\n",
              "        vertical-align: middle;\n",
              "    }\n",
              "\n",
              "    .dataframe tbody tr th {\n",
              "        vertical-align: top;\n",
              "    }\n",
              "\n",
              "    .dataframe thead th {\n",
              "        text-align: right;\n",
              "    }\n",
              "</style>\n",
              "<table border=\"1\" class=\"dataframe\">\n",
              "  <thead>\n",
              "    <tr style=\"text-align: right;\">\n",
              "      <th></th>\n",
              "      <th>X1</th>\n",
              "      <th>X2</th>\n",
              "      <th>X3</th>\n",
              "    </tr>\n",
              "  </thead>\n",
              "  <tbody>\n",
              "    <tr>\n",
              "      <th>0</th>\n",
              "      <td>43.698982</td>\n",
              "      <td>32.198967</td>\n",
              "      <td>97.829085</td>\n",
              "    </tr>\n",
              "    <tr>\n",
              "      <th>1</th>\n",
              "      <td>35.822274</td>\n",
              "      <td>45.366109</td>\n",
              "      <td>70.423067</td>\n",
              "    </tr>\n",
              "    <tr>\n",
              "      <th>2</th>\n",
              "      <td>21.161244</td>\n",
              "      <td>59.928898</td>\n",
              "      <td>59.027706</td>\n",
              "    </tr>\n",
              "    <tr>\n",
              "      <th>3</th>\n",
              "      <td>80.732617</td>\n",
              "      <td>57.607154</td>\n",
              "      <td>22.420098</td>\n",
              "    </tr>\n",
              "    <tr>\n",
              "      <th>4</th>\n",
              "      <td>79.853972</td>\n",
              "      <td>21.033509</td>\n",
              "      <td>87.971231</td>\n",
              "    </tr>\n",
              "    <tr>\n",
              "      <th>...</th>\n",
              "      <td>...</td>\n",
              "      <td>...</td>\n",
              "      <td>...</td>\n",
              "    </tr>\n",
              "    <tr>\n",
              "      <th>499995</th>\n",
              "      <td>88.450434</td>\n",
              "      <td>31.265796</td>\n",
              "      <td>37.523156</td>\n",
              "    </tr>\n",
              "    <tr>\n",
              "      <th>499996</th>\n",
              "      <td>47.568769</td>\n",
              "      <td>40.669961</td>\n",
              "      <td>60.165898</td>\n",
              "    </tr>\n",
              "    <tr>\n",
              "      <th>499997</th>\n",
              "      <td>55.072528</td>\n",
              "      <td>79.460519</td>\n",
              "      <td>49.766298</td>\n",
              "    </tr>\n",
              "    <tr>\n",
              "      <th>499998</th>\n",
              "      <td>20.209161</td>\n",
              "      <td>73.734954</td>\n",
              "      <td>29.063672</td>\n",
              "    </tr>\n",
              "    <tr>\n",
              "      <th>499999</th>\n",
              "      <td>25.335896</td>\n",
              "      <td>69.738720</td>\n",
              "      <td>85.670824</td>\n",
              "    </tr>\n",
              "  </tbody>\n",
              "</table>\n",
              "<p>500000 rows × 3 columns</p>\n",
              "</div>"
            ],
            "text/plain": [
              "               X1         X2         X3\n",
              "0       43.698982  32.198967  97.829085\n",
              "1       35.822274  45.366109  70.423067\n",
              "2       21.161244  59.928898  59.027706\n",
              "3       80.732617  57.607154  22.420098\n",
              "4       79.853972  21.033509  87.971231\n",
              "...           ...        ...        ...\n",
              "499995  88.450434  31.265796  37.523156\n",
              "499996  47.568769  40.669961  60.165898\n",
              "499997  55.072528  79.460519  49.766298\n",
              "499998  20.209161  73.734954  29.063672\n",
              "499999  25.335896  69.738720  85.670824\n",
              "\n",
              "[500000 rows x 3 columns]"
            ]
          },
          "metadata": {},
          "execution_count": 9
        }
      ]
    },
    {
      "cell_type": "code",
      "metadata": {
        "id": "LTTHjzBxemtM"
      },
      "source": [
        "X1 = data[\"X1\"]\n",
        "X2 = data[\"X2\"]\n",
        "X3 = data[\"X3\"]\n",
        "\n",
        "new_data = pd.DataFrame({\"X1\" : data[\"X1\"],\n",
        "                         \"X2\" : data[\"X2\"],\n",
        "                         \"X3\" : data[\"X3\"],\n",
        "                         \"e\"  : np.random.normal(0, 1*((X2)**0), 500000)})"
      ],
      "execution_count": 27,
      "outputs": []
    },
    {
      "cell_type": "code",
      "metadata": {
        "colab": {
          "base_uri": "https://localhost:8080/",
          "height": 17
        },
        "id": "JRIfeouAe1_E",
        "outputId": "7ab50d00-e26c-41ad-af1b-254860ff5c9f"
      },
      "source": [
        "new_data.to_csv('data_var2_random.csv')\n",
        "files.download('data_var2_random.csv')"
      ],
      "execution_count": 28,
      "outputs": [
        {
          "output_type": "display_data",
          "data": {
            "application/javascript": [
              "\n",
              "    async function download(id, filename, size) {\n",
              "      if (!google.colab.kernel.accessAllowed) {\n",
              "        return;\n",
              "      }\n",
              "      const div = document.createElement('div');\n",
              "      const label = document.createElement('label');\n",
              "      label.textContent = `Downloading \"${filename}\": `;\n",
              "      div.appendChild(label);\n",
              "      const progress = document.createElement('progress');\n",
              "      progress.max = size;\n",
              "      div.appendChild(progress);\n",
              "      document.body.appendChild(div);\n",
              "\n",
              "      const buffers = [];\n",
              "      let downloaded = 0;\n",
              "\n",
              "      const channel = await google.colab.kernel.comms.open(id);\n",
              "      // Send a message to notify the kernel that we're ready.\n",
              "      channel.send({})\n",
              "\n",
              "      for await (const message of channel.messages) {\n",
              "        // Send a message to notify the kernel that we're ready.\n",
              "        channel.send({})\n",
              "        if (message.buffers) {\n",
              "          for (const buffer of message.buffers) {\n",
              "            buffers.push(buffer);\n",
              "            downloaded += buffer.byteLength;\n",
              "            progress.value = downloaded;\n",
              "          }\n",
              "        }\n",
              "      }\n",
              "      const blob = new Blob(buffers, {type: 'application/binary'});\n",
              "      const a = document.createElement('a');\n",
              "      a.href = window.URL.createObjectURL(blob);\n",
              "      a.download = filename;\n",
              "      div.appendChild(a);\n",
              "      a.click();\n",
              "      div.remove();\n",
              "    }\n",
              "  "
            ],
            "text/plain": [
              "<IPython.core.display.Javascript object>"
            ]
          },
          "metadata": {}
        },
        {
          "output_type": "display_data",
          "data": {
            "application/javascript": [
              "download(\"download_7d1cc138-da74-49b1-bf7f-8cf23f4eb10e\", \"data_var2_random.csv\", 40358529)"
            ],
            "text/plain": [
              "<IPython.core.display.Javascript object>"
            ]
          },
          "metadata": {}
        }
      ]
    },
    {
      "cell_type": "code",
      "metadata": {
        "colab": {
          "base_uri": "https://localhost:8080/",
          "height": 447
        },
        "id": "3-BDMjSbe136",
        "outputId": "1e345b63-3648-451f-d9e1-41a5f636e152"
      },
      "source": [
        "n=60\n",
        "rep=0\n",
        "table_data_all=pd.DataFrame({\"rep\":[]})\n",
        "data_copy=new_data.copy()\n",
        "while not data_copy.empty:\n",
        "    #=========================\n",
        "    if data_copy.shape[0]>n:\n",
        "        index=data_copy.sample(n).index\n",
        "        data_new=data_copy.loc[index,:].reset_index(drop=True)\n",
        "        data_copy=data_copy.drop(index)\n",
        "    else:\n",
        "        data_new=data_copy.copy().reset_index(drop=True)\n",
        "        data_copy=pd.DataFrame({\"\":[]})\n",
        "    #=========================\n",
        "\n",
        "    table_data = pd.DataFrame({\"x1\" : data_new[\"X1\"],\n",
        "                               \"x2\" : data_new[\"X2\"],\n",
        "                               \"x3\" : data_new[\"X3\"],\n",
        "                               \"e\"  : data_new[\"e\"]})\n",
        "  \n",
        "\n",
        "    table_data[\"Y\"] = 10 + table_data[\"x1\"] + table_data[\"x2\"] + table_data[\"x3\"] + table_data[\"e\"]\n",
        "    \n",
        "    table_data=table_data.reset_index(drop=True).reset_index()\n",
        "    table_data[\"rep\"]=rep\n",
        "    table_data_all=pd.concat([table_data_all,table_data],axis=0,ignore_index=True,sort=False)\n",
        "    rep+=1\n",
        "    if rep==1000:\n",
        "      break\n",
        "table_data_all=table_data_all.set_index([\"rep\", \"index\"])\n",
        "table_data_all"
      ],
      "execution_count": 35,
      "outputs": [
        {
          "output_type": "execute_result",
          "data": {
            "text/html": [
              "<div>\n",
              "<style scoped>\n",
              "    .dataframe tbody tr th:only-of-type {\n",
              "        vertical-align: middle;\n",
              "    }\n",
              "\n",
              "    .dataframe tbody tr th {\n",
              "        vertical-align: top;\n",
              "    }\n",
              "\n",
              "    .dataframe thead th {\n",
              "        text-align: right;\n",
              "    }\n",
              "</style>\n",
              "<table border=\"1\" class=\"dataframe\">\n",
              "  <thead>\n",
              "    <tr style=\"text-align: right;\">\n",
              "      <th></th>\n",
              "      <th></th>\n",
              "      <th>x1</th>\n",
              "      <th>x2</th>\n",
              "      <th>x3</th>\n",
              "      <th>e</th>\n",
              "      <th>Y</th>\n",
              "    </tr>\n",
              "    <tr>\n",
              "      <th>rep</th>\n",
              "      <th>index</th>\n",
              "      <th></th>\n",
              "      <th></th>\n",
              "      <th></th>\n",
              "      <th></th>\n",
              "      <th></th>\n",
              "    </tr>\n",
              "  </thead>\n",
              "  <tbody>\n",
              "    <tr>\n",
              "      <th rowspan=\"5\" valign=\"top\">0.0</th>\n",
              "      <th>0.0</th>\n",
              "      <td>26.331948</td>\n",
              "      <td>87.573306</td>\n",
              "      <td>80.340732</td>\n",
              "      <td>-0.920617</td>\n",
              "      <td>203.325370</td>\n",
              "    </tr>\n",
              "    <tr>\n",
              "      <th>1.0</th>\n",
              "      <td>45.629743</td>\n",
              "      <td>41.260260</td>\n",
              "      <td>94.998028</td>\n",
              "      <td>-0.476816</td>\n",
              "      <td>191.411214</td>\n",
              "    </tr>\n",
              "    <tr>\n",
              "      <th>2.0</th>\n",
              "      <td>37.682178</td>\n",
              "      <td>43.163568</td>\n",
              "      <td>69.928386</td>\n",
              "      <td>-0.478203</td>\n",
              "      <td>160.295929</td>\n",
              "    </tr>\n",
              "    <tr>\n",
              "      <th>3.0</th>\n",
              "      <td>35.749754</td>\n",
              "      <td>73.079022</td>\n",
              "      <td>93.767070</td>\n",
              "      <td>0.753779</td>\n",
              "      <td>213.349624</td>\n",
              "    </tr>\n",
              "    <tr>\n",
              "      <th>4.0</th>\n",
              "      <td>73.939699</td>\n",
              "      <td>78.708769</td>\n",
              "      <td>77.064964</td>\n",
              "      <td>1.603432</td>\n",
              "      <td>241.316865</td>\n",
              "    </tr>\n",
              "    <tr>\n",
              "      <th>...</th>\n",
              "      <th>...</th>\n",
              "      <td>...</td>\n",
              "      <td>...</td>\n",
              "      <td>...</td>\n",
              "      <td>...</td>\n",
              "      <td>...</td>\n",
              "    </tr>\n",
              "    <tr>\n",
              "      <th rowspan=\"5\" valign=\"top\">999.0</th>\n",
              "      <th>55.0</th>\n",
              "      <td>79.155946</td>\n",
              "      <td>40.654620</td>\n",
              "      <td>97.473918</td>\n",
              "      <td>0.102783</td>\n",
              "      <td>227.387267</td>\n",
              "    </tr>\n",
              "    <tr>\n",
              "      <th>56.0</th>\n",
              "      <td>63.500982</td>\n",
              "      <td>20.587943</td>\n",
              "      <td>84.995835</td>\n",
              "      <td>2.571224</td>\n",
              "      <td>181.655984</td>\n",
              "    </tr>\n",
              "    <tr>\n",
              "      <th>57.0</th>\n",
              "      <td>66.761133</td>\n",
              "      <td>88.975155</td>\n",
              "      <td>99.703503</td>\n",
              "      <td>0.722214</td>\n",
              "      <td>266.162005</td>\n",
              "    </tr>\n",
              "    <tr>\n",
              "      <th>58.0</th>\n",
              "      <td>88.694400</td>\n",
              "      <td>62.535093</td>\n",
              "      <td>64.102160</td>\n",
              "      <td>1.198863</td>\n",
              "      <td>226.530516</td>\n",
              "    </tr>\n",
              "    <tr>\n",
              "      <th>59.0</th>\n",
              "      <td>42.678128</td>\n",
              "      <td>40.337225</td>\n",
              "      <td>91.487663</td>\n",
              "      <td>0.335814</td>\n",
              "      <td>184.838830</td>\n",
              "    </tr>\n",
              "  </tbody>\n",
              "</table>\n",
              "<p>60000 rows × 5 columns</p>\n",
              "</div>"
            ],
            "text/plain": [
              "                    x1         x2         x3         e           Y\n",
              "rep   index                                                       \n",
              "0.0   0.0    26.331948  87.573306  80.340732 -0.920617  203.325370\n",
              "      1.0    45.629743  41.260260  94.998028 -0.476816  191.411214\n",
              "      2.0    37.682178  43.163568  69.928386 -0.478203  160.295929\n",
              "      3.0    35.749754  73.079022  93.767070  0.753779  213.349624\n",
              "      4.0    73.939699  78.708769  77.064964  1.603432  241.316865\n",
              "...                ...        ...        ...       ...         ...\n",
              "999.0 55.0   79.155946  40.654620  97.473918  0.102783  227.387267\n",
              "      56.0   63.500982  20.587943  84.995835  2.571224  181.655984\n",
              "      57.0   66.761133  88.975155  99.703503  0.722214  266.162005\n",
              "      58.0   88.694400  62.535093  64.102160  1.198863  226.530516\n",
              "      59.0   42.678128  40.337225  91.487663  0.335814  184.838830\n",
              "\n",
              "[60000 rows x 5 columns]"
            ]
          },
          "metadata": {},
          "execution_count": 35
        }
      ]
    },
    {
      "cell_type": "code",
      "metadata": {
        "colab": {
          "base_uri": "https://localhost:8080/",
          "height": 447
        },
        "id": "C1Er6PdKe1yN",
        "outputId": "4818bab3-7857-4591-86f8-8510a8854989"
      },
      "source": [
        "x = table_data_all[[\"x1\", \"x2\", \"x3\",]]\n",
        "y = table_data_all[\"Y\"]\n",
        "x = sm.add_constant(x)\n",
        "model = sm.OLS(y, x).fit()\n",
        "y_pred = model.predict(x)\n",
        "\n",
        "df = pd.DataFrame({\"Actual\": y, \"Predicted\": y_pred})\n",
        "\n",
        "table_data_new = pd.DataFrame({\"x1\"   : table_data_all[\"x1\"],\n",
        "                               \"x2\"   : table_data_all[\"x2\"],\n",
        "                               \"x3\"   : table_data_all[\"x3\"],\n",
        "                               \"e\"     : table_data_all[\"e\"],\n",
        "                               \"Y\"     : df[\"Actual\"],\n",
        "                               \"y_hat\" : df[\"Predicted\"]})\n",
        "table_data_new[\"e_hat\"] = table_data_new[\"Y\"] - table_data_new[\"y_hat\"]\n",
        "table_data_new"
      ],
      "execution_count": 36,
      "outputs": [
        {
          "output_type": "execute_result",
          "data": {
            "text/html": [
              "<div>\n",
              "<style scoped>\n",
              "    .dataframe tbody tr th:only-of-type {\n",
              "        vertical-align: middle;\n",
              "    }\n",
              "\n",
              "    .dataframe tbody tr th {\n",
              "        vertical-align: top;\n",
              "    }\n",
              "\n",
              "    .dataframe thead th {\n",
              "        text-align: right;\n",
              "    }\n",
              "</style>\n",
              "<table border=\"1\" class=\"dataframe\">\n",
              "  <thead>\n",
              "    <tr style=\"text-align: right;\">\n",
              "      <th></th>\n",
              "      <th></th>\n",
              "      <th>x1</th>\n",
              "      <th>x2</th>\n",
              "      <th>x3</th>\n",
              "      <th>e</th>\n",
              "      <th>Y</th>\n",
              "      <th>y_hat</th>\n",
              "      <th>e_hat</th>\n",
              "    </tr>\n",
              "    <tr>\n",
              "      <th>rep</th>\n",
              "      <th>index</th>\n",
              "      <th></th>\n",
              "      <th></th>\n",
              "      <th></th>\n",
              "      <th></th>\n",
              "      <th></th>\n",
              "      <th></th>\n",
              "      <th></th>\n",
              "    </tr>\n",
              "  </thead>\n",
              "  <tbody>\n",
              "    <tr>\n",
              "      <th rowspan=\"5\" valign=\"top\">0.0</th>\n",
              "      <th>0.0</th>\n",
              "      <td>26.331948</td>\n",
              "      <td>87.573306</td>\n",
              "      <td>80.340732</td>\n",
              "      <td>-0.920617</td>\n",
              "      <td>203.325370</td>\n",
              "      <td>204.252904</td>\n",
              "      <td>-0.927534</td>\n",
              "    </tr>\n",
              "    <tr>\n",
              "      <th>1.0</th>\n",
              "      <td>45.629743</td>\n",
              "      <td>41.260260</td>\n",
              "      <td>94.998028</td>\n",
              "      <td>-0.476816</td>\n",
              "      <td>191.411214</td>\n",
              "      <td>191.902182</td>\n",
              "      <td>-0.490968</td>\n",
              "    </tr>\n",
              "    <tr>\n",
              "      <th>2.0</th>\n",
              "      <td>37.682178</td>\n",
              "      <td>43.163568</td>\n",
              "      <td>69.928386</td>\n",
              "      <td>-0.478203</td>\n",
              "      <td>160.295929</td>\n",
              "      <td>160.785465</td>\n",
              "      <td>-0.489537</td>\n",
              "    </tr>\n",
              "    <tr>\n",
              "      <th>3.0</th>\n",
              "      <td>35.749754</td>\n",
              "      <td>73.079022</td>\n",
              "      <td>93.767070</td>\n",
              "      <td>0.753779</td>\n",
              "      <td>213.349624</td>\n",
              "      <td>212.605742</td>\n",
              "      <td>0.743882</td>\n",
              "    </tr>\n",
              "    <tr>\n",
              "      <th>4.0</th>\n",
              "      <td>73.939699</td>\n",
              "      <td>78.708769</td>\n",
              "      <td>77.064964</td>\n",
              "      <td>1.603432</td>\n",
              "      <td>241.316865</td>\n",
              "      <td>239.709863</td>\n",
              "      <td>1.607002</td>\n",
              "    </tr>\n",
              "    <tr>\n",
              "      <th>...</th>\n",
              "      <th>...</th>\n",
              "      <td>...</td>\n",
              "      <td>...</td>\n",
              "      <td>...</td>\n",
              "      <td>...</td>\n",
              "      <td>...</td>\n",
              "      <td>...</td>\n",
              "      <td>...</td>\n",
              "    </tr>\n",
              "    <tr>\n",
              "      <th rowspan=\"5\" valign=\"top\">999.0</th>\n",
              "      <th>55.0</th>\n",
              "      <td>79.155946</td>\n",
              "      <td>40.654620</td>\n",
              "      <td>97.473918</td>\n",
              "      <td>0.102783</td>\n",
              "      <td>227.387267</td>\n",
              "      <td>227.290941</td>\n",
              "      <td>0.096326</td>\n",
              "    </tr>\n",
              "    <tr>\n",
              "      <th>56.0</th>\n",
              "      <td>63.500982</td>\n",
              "      <td>20.587943</td>\n",
              "      <td>84.995835</td>\n",
              "      <td>2.571224</td>\n",
              "      <td>181.655984</td>\n",
              "      <td>179.096967</td>\n",
              "      <td>2.559017</td>\n",
              "    </tr>\n",
              "    <tr>\n",
              "      <th>57.0</th>\n",
              "      <td>66.761133</td>\n",
              "      <td>88.975155</td>\n",
              "      <td>99.703503</td>\n",
              "      <td>0.722214</td>\n",
              "      <td>266.162005</td>\n",
              "      <td>265.439861</td>\n",
              "      <td>0.722143</td>\n",
              "    </tr>\n",
              "    <tr>\n",
              "      <th>58.0</th>\n",
              "      <td>88.694400</td>\n",
              "      <td>62.535093</td>\n",
              "      <td>64.102160</td>\n",
              "      <td>1.198863</td>\n",
              "      <td>226.530516</td>\n",
              "      <td>225.325473</td>\n",
              "      <td>1.205043</td>\n",
              "    </tr>\n",
              "    <tr>\n",
              "      <th>59.0</th>\n",
              "      <td>42.678128</td>\n",
              "      <td>40.337225</td>\n",
              "      <td>91.487663</td>\n",
              "      <td>0.335814</td>\n",
              "      <td>184.838830</td>\n",
              "      <td>184.517467</td>\n",
              "      <td>0.321363</td>\n",
              "    </tr>\n",
              "  </tbody>\n",
              "</table>\n",
              "<p>60000 rows × 7 columns</p>\n",
              "</div>"
            ],
            "text/plain": [
              "                    x1         x2         x3  ...           Y       y_hat     e_hat\n",
              "rep   index                                   ...                                  \n",
              "0.0   0.0    26.331948  87.573306  80.340732  ...  203.325370  204.252904 -0.927534\n",
              "      1.0    45.629743  41.260260  94.998028  ...  191.411214  191.902182 -0.490968\n",
              "      2.0    37.682178  43.163568  69.928386  ...  160.295929  160.785465 -0.489537\n",
              "      3.0    35.749754  73.079022  93.767070  ...  213.349624  212.605742  0.743882\n",
              "      4.0    73.939699  78.708769  77.064964  ...  241.316865  239.709863  1.607002\n",
              "...                ...        ...        ...  ...         ...         ...       ...\n",
              "999.0 55.0   79.155946  40.654620  97.473918  ...  227.387267  227.290941  0.096326\n",
              "      56.0   63.500982  20.587943  84.995835  ...  181.655984  179.096967  2.559017\n",
              "      57.0   66.761133  88.975155  99.703503  ...  266.162005  265.439861  0.722143\n",
              "      58.0   88.694400  62.535093  64.102160  ...  226.530516  225.325473  1.205043\n",
              "      59.0   42.678128  40.337225  91.487663  ...  184.838830  184.517467  0.321363\n",
              "\n",
              "[60000 rows x 7 columns]"
            ]
          },
          "metadata": {},
          "execution_count": 36
        }
      ]
    },
    {
      "cell_type": "code",
      "metadata": {
        "colab": {
          "base_uri": "https://localhost:8080/",
          "height": 17
        },
        "id": "89B3jo__e1s5",
        "outputId": "1b24a22b-0679-43ad-8223-ed6e3659e7b2"
      },
      "source": [
        "table_data_new.to_csv(\"data_var2_random_n60_(X2)__0.csv\")\n",
        "files.download(\"data_var2_random_n60_(X2)__0.csv\")"
      ],
      "execution_count": 37,
      "outputs": [
        {
          "output_type": "display_data",
          "data": {
            "application/javascript": [
              "\n",
              "    async function download(id, filename, size) {\n",
              "      if (!google.colab.kernel.accessAllowed) {\n",
              "        return;\n",
              "      }\n",
              "      const div = document.createElement('div');\n",
              "      const label = document.createElement('label');\n",
              "      label.textContent = `Downloading \"${filename}\": `;\n",
              "      div.appendChild(label);\n",
              "      const progress = document.createElement('progress');\n",
              "      progress.max = size;\n",
              "      div.appendChild(progress);\n",
              "      document.body.appendChild(div);\n",
              "\n",
              "      const buffers = [];\n",
              "      let downloaded = 0;\n",
              "\n",
              "      const channel = await google.colab.kernel.comms.open(id);\n",
              "      // Send a message to notify the kernel that we're ready.\n",
              "      channel.send({})\n",
              "\n",
              "      for await (const message of channel.messages) {\n",
              "        // Send a message to notify the kernel that we're ready.\n",
              "        channel.send({})\n",
              "        if (message.buffers) {\n",
              "          for (const buffer of message.buffers) {\n",
              "            buffers.push(buffer);\n",
              "            downloaded += buffer.byteLength;\n",
              "            progress.value = downloaded;\n",
              "          }\n",
              "        }\n",
              "      }\n",
              "      const blob = new Blob(buffers, {type: 'application/binary'});\n",
              "      const a = document.createElement('a');\n",
              "      a.href = window.URL.createObjectURL(blob);\n",
              "      a.download = filename;\n",
              "      div.appendChild(a);\n",
              "      a.click();\n",
              "      div.remove();\n",
              "    }\n",
              "  "
            ],
            "text/plain": [
              "<IPython.core.display.Javascript object>"
            ]
          },
          "metadata": {}
        },
        {
          "output_type": "display_data",
          "data": {
            "application/javascript": [
              "download(\"download_ea5c59da-033d-4d75-945d-010094ed65e7\", \"data_var2_random_n60_(X2)__0.csv\", 8497731)"
            ],
            "text/plain": [
              "<IPython.core.display.Javascript object>"
            ]
          },
          "metadata": {}
        }
      ]
    },
    {
      "cell_type": "code",
      "metadata": {
        "colab": {
          "base_uri": "https://localhost:8080/",
          "height": 1000
        },
        "id": "2GtRAC0wlB39",
        "outputId": "adadf008-1fb6-470d-f551-f0c6a6ea450d"
      },
      "source": [
        "table_data_new.plot(x ='y_hat', y='e_hat', kind = 'scatter')\n",
        "table_data_new.plot(x ='x1', y='e_hat', kind = 'scatter')\n",
        "table_data_new.plot(x ='x2', y='e_hat', kind = 'scatter')\n",
        "table_data_new.plot(x ='x3', y='e_hat', kind = 'scatter')"
      ],
      "execution_count": 38,
      "outputs": [
        {
          "output_type": "execute_result",
          "data": {
            "text/plain": [
              "<matplotlib.axes._subplots.AxesSubplot at 0x7f477ec3a050>"
            ]
          },
          "metadata": {},
          "execution_count": 38
        },
        {
          "output_type": "display_data",
          "data": {
            "image/png": "[encoded data removed]",
            "text/plain": [
              "<Figure size 432x288 with 1 Axes>"
            ]
          },
          "metadata": {
            "needs_background": "light"
          }
        },
        {
          "output_type": "display_data",
          "data": {
            "image/png": "[encoded data removed]",
            "text/plain": [
              "<Figure size 432x288 with 1 Axes>"
            ]
          },
          "metadata": {
            "needs_background": "light"
          }
        },
        {
          "output_type": "display_data",
          "data": {
            "image/png": "[encoded data removed]",
            "text/plain": [
              "<Figure size 432x288 with 1 Axes>"
            ]
          },
          "metadata": {
            "needs_background": "light"
          }
        },
        {
          "output_type": "display_data",
          "data": {
            "image/png": "[encoded data removed]",
            "text/plain": [
              "<Figure size 432x288 with 1 Axes>"
            ]
          },
          "metadata": {
            "needs_background": "light"
          }
        }
      ]
    }
  ]
}